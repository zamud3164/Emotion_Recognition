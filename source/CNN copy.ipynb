{
 "cells": [
  {
   "cell_type": "code",
   "execution_count": 1,
   "metadata": {},
   "outputs": [],
   "source": [
    "import torch\n",
    "import torch.nn as nn\n",
    "import matplotlib.pyplot as plt\n",
    "import numpy as np\n",
    "import pandas as pd\n",
    "import pickle\n",
    "import os, glob\n",
    "import librosa\n",
    "import librosa.display\n",
    "from sklearn.feature_extraction.text import CountVectorizer\n",
    "from sklearn.feature_extraction.text import TfidfTransformer, TfidfVectorizer\n",
    "import torch.nn.functional as F"
   ]
  },
  {
   "cell_type": "code",
   "execution_count": 2,
   "metadata": {},
   "outputs": [],
   "source": [
    "emotions_dict = {'ang': 0,\n",
    "                'hap': 1,\n",
    "                'sad': 2,\n",
    "                'fea': 3,\n",
    "                'sur': 4,\n",
    "                'neu': 5\n",
    "}"
   ]
  },
  {
   "cell_type": "code",
   "execution_count": 3,
   "metadata": {},
   "outputs": [
    {
     "name": "stdout",
     "output_type": "stream",
     "text": [
      "(7837, 3) (7837,) (7837, 278) (7837,)\n"
     ]
    }
   ],
   "source": [
    "x_train_text = pd.read_csv('../data/text_train.csv')\n",
    "x_test_text = pd.read_csv('../data/text_test.csv')\n",
    "\n",
    "y_train_text = x_train_text['label']\n",
    "y_test_text = x_test_text['label']\n",
    "\n",
    "x_train_audio = pd.read_csv('../data/audio_train_v0.csv')\n",
    "x_test_audio = pd.read_csv('../data/audio_test_v0.csv')\n",
    "\n",
    "\n",
    "y_train_audio = x_train_audio['label']\n",
    "y_test_audio = x_test_audio['label']\n",
    "\n",
    "y_train = y_train_audio  # since y_train_audio == y_train_text\n",
    "y_test = y_test_audio  # since y_train_audio == y_train_text\n",
    "\n",
    "print(x_train_text.shape, y_train_text.shape, x_train_audio.shape, y_train_audio.shape)"
   ]
  },
  {
   "cell_type": "code",
   "execution_count": 4,
   "metadata": {},
   "outputs": [
    {
     "name": "stdout",
     "output_type": "stream",
     "text": [
      "{2: 0.29539364552762537, 5: 0.17481179022585172, 1: 0.16855939772872272, 3: 0.12696184764578283, 4: 0.11981625622049254, 0: 0.11445706265152482}\n"
     ]
    }
   ],
   "source": [
    "cl_weight = dict(pd.Series(x_train_audio['label']).value_counts(normalize=True))\n",
    "print(cl_weight)"
   ]
  },
  {
   "cell_type": "code",
   "execution_count": 5,
   "metadata": {},
   "outputs": [
    {
     "name": "stdout",
     "output_type": "stream",
     "text": [
      "x_train_text columns: Index(['wav_file', 'label', 'transcription'], dtype='object')\n",
      "x_test_text columns: Index(['wav_file', 'label', 'transcription'], dtype='object')\n"
     ]
    }
   ],
   "source": [
    "# Check if both DataFrames have the 'transcription' column\n",
    "print(\"x_train_text columns:\", x_train_text.columns)\n",
    "print(\"x_test_text columns:\", x_test_text.columns)"
   ]
  },
  {
   "cell_type": "code",
   "execution_count": 6,
   "metadata": {},
   "outputs": [
    {
     "name": "stdout",
     "output_type": "stream",
     "text": [
      "(9797, 2464) (7837, 2464) (1960, 2464)\n"
     ]
    }
   ],
   "source": [
    "# Concatenate the 'transcription' columns directly\n",
    "transcription_train = x_train_text['transcription']\n",
    "transcription_test = x_test_text['transcription']\n",
    "combined_transcription = pd.concat([transcription_train, transcription_test])\n",
    "\n",
    "tfidf = TfidfVectorizer(sublinear_tf=True, min_df=5, norm='l2', encoding='latin-1', ngram_range=(1, 2), stop_words='english')\n",
    "\n",
    "# Apply TfidfVectorizer\n",
    "features_text = tfidf.fit_transform(combined_transcription).toarray()\n",
    "\n",
    "# Split back into train and test sets\n",
    "x_train_text = features_text[:x_train_text.shape[0]]\n",
    "x_test_text = features_text[-x_test_text.shape[0]:]\n",
    "\n",
    "print(features_text.shape, x_train_text.shape, x_test_text.shape)"
   ]
  },
  {
   "cell_type": "code",
   "execution_count": 7,
   "metadata": {},
   "outputs": [
    {
     "name": "stdout",
     "output_type": "stream",
     "text": [
      "(7837, 2740) (1960, 2740)\n"
     ]
    }
   ],
   "source": [
    "combined_x_train = np.concatenate((np.array(x_train_audio[x_train_audio.columns[2:]]), x_train_text), axis=1)\n",
    "combined_x_test = np.concatenate((np.array(x_test_audio[x_test_audio.columns[2:]]), x_test_text), axis=1)\n",
    "\n",
    "print(combined_x_train.shape, combined_x_test.shape)\n",
    "\n",
    "combined_features_dict = {}\n",
    "\n",
    "combined_features_dict['x_train'] = combined_x_train\n",
    "combined_features_dict['x_test'] = combined_x_test\n",
    "combined_features_dict['y_train'] = np.array(y_train)\n",
    "combined_features_dict['y_test'] = np.array(y_test)"
   ]
  },
  {
   "cell_type": "code",
   "execution_count": 8,
   "metadata": {},
   "outputs": [
    {
     "name": "stdout",
     "output_type": "stream",
     "text": [
      "Shape of feature array for input tensor: (7837, 1, 2740) train, (1960, 1, 2740) test\n",
      "Shape of emotion labels: (7837,) train, (1960,) test\n"
     ]
    }
   ],
   "source": [
    "# need to make dummy input channel for CNN input feature tensor\n",
    "X_train = np.expand_dims(combined_x_train,1)\n",
    "X_test = np.expand_dims(combined_x_test,1)\n",
    "\n",
    "# convert emotion labels from list back to numpy arrays for PyTorch to work with\n",
    "y_train = np.array(y_train)\n",
    "y_test = np.array(y_test)\n",
    "\n",
    "print(f'Shape of feature array for input tensor: {X_train.shape} train, {X_test.shape} test')\n",
    "print(f'Shape of emotion labels: {y_train.shape} train, {y_test.shape} test')"
   ]
  },
  {
   "cell_type": "code",
   "execution_count": 10,
   "metadata": {},
   "outputs": [],
   "source": [
    "class BasicBlock(nn.Module):\n",
    "    expansion = 1\n",
    "\n",
    "    def __init__(self, in_planes, planes, stride=1):\n",
    "        super(BasicBlock, self).__init__()\n",
    "        self.conv1 = nn.Conv1d(in_planes, planes, kernel_size=3, stride=stride, padding=1, bias=False)\n",
    "        self.bn1 = nn.BatchNorm1d(planes)\n",
    "        self.conv2 = nn.Conv1d(planes, planes, kernel_size=3, stride=1, padding=1, bias=False)\n",
    "        self.bn2 = nn.BatchNorm1d(planes)\n",
    "\n",
    "        self.shortcut = nn.Sequential()\n",
    "        if stride != 1 or in_planes != self.expansion*planes:\n",
    "            self.shortcut = nn.Sequential(\n",
    "                nn.Conv1d(in_planes, self.expansion*planes, kernel_size=1, stride=stride, bias=False),\n",
    "                nn.BatchNorm1d(self.expansion*planes)\n",
    "            )\n",
    "\n",
    "    def forward(self, x):\n",
    "        out = F.relu(self.bn1(self.conv1(x)))\n",
    "        out = self.bn2(self.conv2(out))\n",
    "        out += self.shortcut(x)\n",
    "        out = F.relu(out)\n",
    "        return out\n",
    "\n",
    "class ResNet1D(nn.Module):\n",
    "    def __init__(self, block, num_blocks, num_classes=10):\n",
    "        super(ResNet1D, self).__init__()\n",
    "        self.in_planes = 64\n",
    "\n",
    "        self.conv1 = nn.Conv1d(1, 64, kernel_size=7, stride=2, padding=3, bias=False)\n",
    "        self.bn1 = nn.BatchNorm1d(64)\n",
    "        self.layer1 = self._make_layer(block, 64, num_blocks[0], stride=1)\n",
    "        self.layer2 = self._make_layer(block, 64, num_blocks[1], stride=2)\n",
    "        self.layer3 = self._make_layer(block, 128, num_blocks[2], stride=1)\n",
    "        self.layer4 = self._make_layer(block, 128, num_blocks[3], stride=2)\n",
    "        self.linear = nn.Linear(128*block.expansion, num_classes)\n",
    "\n",
    "    def _make_layer(self, block, planes, num_blocks, stride):\n",
    "        strides = [stride] + [1]*(num_blocks-1)\n",
    "        layers = []\n",
    "        for stride in strides:\n",
    "            layers.append(block(self.in_planes, planes, stride))\n",
    "            self.in_planes = planes * block.expansion\n",
    "        return nn.Sequential(*layers)\n",
    "\n",
    "    def forward(self, x):\n",
    "        out = F.relu(self.bn1(self.conv1(x)))\n",
    "        out = self.layer1(out)\n",
    "        out = self.layer2(out)\n",
    "        out = self.layer3(out)\n",
    "        out = self.layer4(out)\n",
    "        out = F.avg_pool1d(out, out.size(2))\n",
    "        out = out.view(out.size(0), -1)\n",
    "        out_logits = self.linear(out)\n",
    "        out_softmax = F.softmax(out_logits, dim=1)\n",
    "        return out_logits, out_softmax"
   ]
  },
  {
   "cell_type": "code",
   "execution_count": 11,
   "metadata": {},
   "outputs": [
    {
     "name": "stdout",
     "output_type": "stream",
     "text": [
      "ResNet1D(\n",
      "  (conv1): Conv1d(1, 64, kernel_size=(7,), stride=(2,), padding=(3,), bias=False)\n",
      "  (bn1): BatchNorm1d(64, eps=1e-05, momentum=0.1, affine=True, track_running_stats=True)\n",
      "  (layer1): Sequential(\n",
      "    (0): BasicBlock(\n",
      "      (conv1): Conv1d(64, 64, kernel_size=(3,), stride=(1,), padding=(1,), bias=False)\n",
      "      (bn1): BatchNorm1d(64, eps=1e-05, momentum=0.1, affine=True, track_running_stats=True)\n",
      "      (conv2): Conv1d(64, 64, kernel_size=(3,), stride=(1,), padding=(1,), bias=False)\n",
      "      (bn2): BatchNorm1d(64, eps=1e-05, momentum=0.1, affine=True, track_running_stats=True)\n",
      "      (shortcut): Sequential()\n",
      "    )\n",
      "    (1): BasicBlock(\n",
      "      (conv1): Conv1d(64, 64, kernel_size=(3,), stride=(1,), padding=(1,), bias=False)\n",
      "      (bn1): BatchNorm1d(64, eps=1e-05, momentum=0.1, affine=True, track_running_stats=True)\n",
      "      (conv2): Conv1d(64, 64, kernel_size=(3,), stride=(1,), padding=(1,), bias=False)\n",
      "      (bn2): BatchNorm1d(64, eps=1e-05, momentum=0.1, affine=True, track_running_stats=True)\n",
      "      (shortcut): Sequential()\n",
      "    )\n",
      "  )\n",
      "  (layer2): Sequential(\n",
      "    (0): BasicBlock(\n",
      "      (conv1): Conv1d(64, 64, kernel_size=(3,), stride=(2,), padding=(1,), bias=False)\n",
      "      (bn1): BatchNorm1d(64, eps=1e-05, momentum=0.1, affine=True, track_running_stats=True)\n",
      "      (conv2): Conv1d(64, 64, kernel_size=(3,), stride=(1,), padding=(1,), bias=False)\n",
      "      (bn2): BatchNorm1d(64, eps=1e-05, momentum=0.1, affine=True, track_running_stats=True)\n",
      "      (shortcut): Sequential(\n",
      "        (0): Conv1d(64, 64, kernel_size=(1,), stride=(2,), bias=False)\n",
      "        (1): BatchNorm1d(64, eps=1e-05, momentum=0.1, affine=True, track_running_stats=True)\n",
      "      )\n",
      "    )\n",
      "    (1): BasicBlock(\n",
      "      (conv1): Conv1d(64, 64, kernel_size=(3,), stride=(1,), padding=(1,), bias=False)\n",
      "      (bn1): BatchNorm1d(64, eps=1e-05, momentum=0.1, affine=True, track_running_stats=True)\n",
      "      (conv2): Conv1d(64, 64, kernel_size=(3,), stride=(1,), padding=(1,), bias=False)\n",
      "      (bn2): BatchNorm1d(64, eps=1e-05, momentum=0.1, affine=True, track_running_stats=True)\n",
      "      (shortcut): Sequential()\n",
      "    )\n",
      "  )\n",
      "  (layer3): Sequential(\n",
      "    (0): BasicBlock(\n",
      "      (conv1): Conv1d(64, 128, kernel_size=(3,), stride=(1,), padding=(1,), bias=False)\n",
      "      (bn1): BatchNorm1d(128, eps=1e-05, momentum=0.1, affine=True, track_running_stats=True)\n",
      "      (conv2): Conv1d(128, 128, kernel_size=(3,), stride=(1,), padding=(1,), bias=False)\n",
      "      (bn2): BatchNorm1d(128, eps=1e-05, momentum=0.1, affine=True, track_running_stats=True)\n",
      "      (shortcut): Sequential(\n",
      "        (0): Conv1d(64, 128, kernel_size=(1,), stride=(1,), bias=False)\n",
      "        (1): BatchNorm1d(128, eps=1e-05, momentum=0.1, affine=True, track_running_stats=True)\n",
      "      )\n",
      "    )\n",
      "    (1): BasicBlock(\n",
      "      (conv1): Conv1d(128, 128, kernel_size=(3,), stride=(1,), padding=(1,), bias=False)\n",
      "      (bn1): BatchNorm1d(128, eps=1e-05, momentum=0.1, affine=True, track_running_stats=True)\n",
      "      (conv2): Conv1d(128, 128, kernel_size=(3,), stride=(1,), padding=(1,), bias=False)\n",
      "      (bn2): BatchNorm1d(128, eps=1e-05, momentum=0.1, affine=True, track_running_stats=True)\n",
      "      (shortcut): Sequential()\n",
      "    )\n",
      "  )\n",
      "  (layer4): Sequential(\n",
      "    (0): BasicBlock(\n",
      "      (conv1): Conv1d(128, 128, kernel_size=(3,), stride=(2,), padding=(1,), bias=False)\n",
      "      (bn1): BatchNorm1d(128, eps=1e-05, momentum=0.1, affine=True, track_running_stats=True)\n",
      "      (conv2): Conv1d(128, 128, kernel_size=(3,), stride=(1,), padding=(1,), bias=False)\n",
      "      (bn2): BatchNorm1d(128, eps=1e-05, momentum=0.1, affine=True, track_running_stats=True)\n",
      "      (shortcut): Sequential(\n",
      "        (0): Conv1d(128, 128, kernel_size=(1,), stride=(2,), bias=False)\n",
      "        (1): BatchNorm1d(128, eps=1e-05, momentum=0.1, affine=True, track_running_stats=True)\n",
      "      )\n",
      "    )\n",
      "    (1): BasicBlock(\n",
      "      (conv1): Conv1d(128, 128, kernel_size=(3,), stride=(1,), padding=(1,), bias=False)\n",
      "      (bn1): BatchNorm1d(128, eps=1e-05, momentum=0.1, affine=True, track_running_stats=True)\n",
      "      (conv2): Conv1d(128, 128, kernel_size=(3,), stride=(1,), padding=(1,), bias=False)\n",
      "      (bn2): BatchNorm1d(128, eps=1e-05, momentum=0.1, affine=True, track_running_stats=True)\n",
      "      (shortcut): Sequential()\n",
      "    )\n",
      "  )\n",
      "  (linear): Linear(in_features=128, out_features=6, bias=True)\n",
      ")\n"
     ]
    }
   ],
   "source": [
    "model = ResNet1D(BasicBlock, [2, 2, 2, 2], num_classes=len(emotions_dict))\n",
    "\n",
    "print(model)"
   ]
  },
  {
   "cell_type": "code",
   "execution_count": 12,
   "metadata": {},
   "outputs": [],
   "source": [
    "# define loss function: CrossEntropyLoss()\n",
    "def criterion(predictions, targets):\n",
    "    return nn.CrossEntropyLoss()(input=predictions, target=targets)"
   ]
  },
  {
   "cell_type": "code",
   "execution_count": 15,
   "metadata": {},
   "outputs": [],
   "source": [
    "# define function to create a single step of the training phase\n",
    "def make_train_step(model, criterion, optimizer):\n",
    "\n",
    "    # define the training step of the training phase\n",
    "    def train_step(X,Y):\n",
    "\n",
    "        # forward pass\n",
    "        output_logits, output_softmax = model(X)\n",
    "        predictions = torch.argmax(output_softmax,dim=1)\n",
    "        accuracy = torch.sum(Y==predictions)/float(len(Y))\n",
    "\n",
    "        # compute loss on logits because nn.CrossEntropyLoss implements log softmax\n",
    "        loss = criterion(output_logits, Y)\n",
    "\n",
    "        # compute gradients for the optimizer to use\n",
    "        loss.backward()\n",
    "\n",
    "        # update network parameters based on gradient stored (by calling loss.backward())\n",
    "        optimizer.step()\n",
    "\n",
    "        # zero out gradients for next pass\n",
    "        optimizer.zero_grad()\n",
    "\n",
    "        return loss.item(), accuracy*100\n",
    "    return train_step"
   ]
  },
  {
   "cell_type": "code",
   "execution_count": 16,
   "metadata": {},
   "outputs": [],
   "source": [
    "def make_validate_fnc(model,criterion):\n",
    "    def validate(X,Y):\n",
    "\n",
    "        # don't want to update any network parameters on validation passes: don't need gradient\n",
    "        # wrap in torch.no_grad to save memory and compute in validation phase:\n",
    "        with torch.no_grad():\n",
    "\n",
    "            # set model to validation phase i.e. turn off dropout and batchnorm layers\n",
    "            model.eval()\n",
    "\n",
    "            # get the model's predictions on the validation set\n",
    "            output_logits, output_softmax = model(X)\n",
    "            predictions = torch.argmax(output_softmax,dim=1)\n",
    "\n",
    "            # calculate the mean accuracy over the entire validation set\n",
    "            accuracy = torch.sum(Y==predictions)/float(len(Y))\n",
    "\n",
    "            # compute error from logits (nn.crossentropy implements softmax)\n",
    "            loss = criterion(output_logits,Y)\n",
    "\n",
    "        return loss.item(), accuracy*100, predictions\n",
    "    return validate"
   ]
  },
  {
   "cell_type": "code",
   "execution_count": 17,
   "metadata": {},
   "outputs": [],
   "source": [
    "def make_save_checkpoint():\n",
    "    def save_checkpoint(optimizer, model, epoch, filename):\n",
    "        checkpoint_dict = {\n",
    "            'optimizer': optimizer.state_dict(),\n",
    "            'model': model.state_dict(),\n",
    "            'epoch': epoch\n",
    "        }\n",
    "        torch.save(checkpoint_dict, filename)\n",
    "    return save_checkpoint\n",
    "\n",
    "def load_checkpoint(optimizer, model, filename):\n",
    "    checkpoint_dict = torch.load(filename)\n",
    "    epoch = checkpoint_dict['epoch']\n",
    "    model.load_state_dict(checkpoint_dict['model'])\n",
    "    if optimizer is not None:\n",
    "        optimizer.load_state_dict(checkpoint_dict['optimizer'])\n",
    "    return epoch"
   ]
  },
  {
   "cell_type": "code",
   "execution_count": 18,
   "metadata": {},
   "outputs": [
    {
     "name": "stdout",
     "output_type": "stream",
     "text": [
      "cpu selected\n",
      "Number of trainable params:  500678\n"
     ]
    },
    {
     "name": "stderr",
     "output_type": "stream",
     "text": [
      "c:\\Users\\Zara Mudassar\\AppData\\Local\\Programs\\Python\\Python311\\Lib\\site-packages\\tqdm\\auto.py:21: TqdmWarning: IProgress not found. Please update jupyter and ipywidgets. See https://ipywidgets.readthedocs.io/en/stable/user_install.html\n",
      "  from .autonotebook import tqdm as notebook_tqdm\n"
     ]
    }
   ],
   "source": [
    "train_size = X_train.shape[0]\n",
    "minibatch = 32\n",
    "\n",
    "# set device to GPU\n",
    "device = 'cuda' if torch.cuda.is_available() else 'cpu'\n",
    "print(f'{device} selected')\n",
    "\n",
    "# instantiate model and move to GPU for training\n",
    "model = ResNet1D(BasicBlock, [2, 2, 2, 2, 2], num_classes=len(emotions_dict)).to(device)\n",
    "print('Number of trainable params: ',sum(p.numel() for p in model.parameters()) )\n",
    "\n",
    "optimizer = torch.optim.SGD(model.parameters(),lr=0.001, weight_decay=1e-4, momentum=0.4)\n",
    "\n",
    "# instantiate the checkpoint save function\n",
    "save_checkpoint = make_save_checkpoint()\n",
    "\n",
    "# instantiate the training step function\n",
    "train_step = make_train_step(model, criterion, optimizer=optimizer)\n",
    "\n",
    "# instantiate the validation loop function\n",
    "validate = make_validate_fnc(model,criterion)\n",
    "\n",
    "# instantiate lists to hold scalar performance metrics to plot later\n",
    "train_losses=[]\n",
    "valid_losses = []\n",
    "train_accuracy = []\n",
    "valid_accuracy = []\n",
    "\n",
    "\n",
    "# create training loop for one complete epoch (entire training set)\n",
    "def train(optimizer, model, num_epochs, X_train, Y_train, X_valid, Y_valid):\n",
    "\n",
    "    for epoch in range(num_epochs):\n",
    "\n",
    "        # set model to train phase\n",
    "        model.train()\n",
    "\n",
    "        # shuffle entire training set in each epoch to randomize minibatch order\n",
    "        train_indices = np.random.permutation(train_size)\n",
    "        X_train = X_train[train_indices,:]\n",
    "        Y_train = Y_train[train_indices]\n",
    "\n",
    "        epoch_acc = 0\n",
    "        epoch_loss = 0\n",
    "        num_iterations = int(train_size / minibatch)\n",
    "\n",
    "        # create a loop for each minibatch of 32 samples:\n",
    "        for i in range(num_iterations):\n",
    "\n",
    "            # track minibatch position based on iteration number:\n",
    "            batch_start = i * minibatch\n",
    "            batch_end = min(batch_start + minibatch, train_size)\n",
    "            actual_batch_size = batch_end-batch_start\n",
    "\n",
    "            # create tensors from minibatch\n",
    "            X = X_train[batch_start:batch_end,:]\n",
    "            Y = Y_train[batch_start:batch_end]\n",
    "\n",
    "            # instantiate training tensors\n",
    "            X_tensor = torch.tensor(X, device=device).float()\n",
    "            Y_tensor = torch.tensor(Y, dtype=torch.long,device=device)\n",
    "\n",
    "            # Pass input tensors thru 1 training step (fwd+backwards pass)\n",
    "            loss, acc = train_step(X_tensor,Y_tensor)\n",
    "\n",
    "            # aggregate batch accuracy to measure progress of entire epoch\n",
    "            epoch_acc += acc * actual_batch_size / train_size\n",
    "            epoch_loss += loss * actual_batch_size / train_size\n",
    "\n",
    "            # keep track of the iteration to see if the model's too slow\n",
    "            print('\\r'+f'Epoch {epoch}: iteration {i}/{num_iterations}',end='')\n",
    "\n",
    "        # create tensors from validation set\n",
    "        X_valid_tensor = torch.tensor(X_valid,device=device).float()\n",
    "        Y_valid_tensor = torch.tensor(Y_valid,dtype=torch.long,device=device)\n",
    "\n",
    "        # calculate validation metrics to keep track of progress\n",
    "        valid_loss, valid_acc, _ = validate(X_valid_tensor,Y_valid_tensor)\n",
    "\n",
    "        # accumulate scalar performance metrics at each epoch to track and plot later\n",
    "        train_losses.append(epoch_loss)\n",
    "        valid_losses.append(valid_loss)\n",
    "        train_accuracy.append(epoch_acc)\n",
    "        valid_accuracy.append(valid_acc)\n",
    "\n",
    "        # Save checkpoint of the model\n",
    "        checkpoint_filename = '../data/model_checkpoints/CNN1D_v2-{:03d}.pkl'.format(epoch)\n",
    "        save_checkpoint(optimizer, model, epoch, checkpoint_filename)\n",
    "\n",
    "        # keep track of each epoch's progress\n",
    "        print(f'\\nEpoch {epoch} --- loss:{epoch_loss:.3f}, Epoch accuracy:{epoch_acc:.2f}%, Validation loss:{valid_loss:.3f}, Validation accuracy:{valid_acc:.2f}%')"
   ]
  },
  {
   "cell_type": "code",
   "execution_count": 19,
   "metadata": {},
   "outputs": [
    {
     "name": "stdout",
     "output_type": "stream",
     "text": [
      "Epoch 0: iteration 243/244\n",
      "Epoch 0 --- loss:1.727, Epoch accuracy:27.47%, Validation loss:1.698, Validation accuracy:31.53%\n",
      "Epoch 1: iteration 243/244"
     ]
    }
   ],
   "source": [
    "# choose number of epochs higher than reasonable so we can manually stop training\n",
    "num_epochs = 50\n",
    "\n",
    "# train it!\n",
    "train(optimizer, model, num_epochs, X_train, y_train, X_test, y_test)"
   ]
  },
  {
   "cell_type": "code",
   "execution_count": 36,
   "metadata": {},
   "outputs": [
    {
     "data": {
      "image/png": "[encoded data removed]",
      "text/plain": [
       "<Figure size 640x480 with 1 Axes>"
      ]
     },
     "metadata": {},
     "output_type": "display_data"
    }
   ],
   "source": [
    "plt.title('Loss Curve for Model')\n",
    "plt.ylabel('Loss', fontsize=16)\n",
    "plt.xlabel('Epoch', fontsize=16)\n",
    "plt.plot(train_losses[:],'b')\n",
    "plt.plot(valid_losses[:],'r')\n",
    "plt.legend(['Training loss','Validation loss'])\n",
    "plt.show()"
   ]
  },
  {
   "cell_type": "code",
   "execution_count": 37,
   "metadata": {},
   "outputs": [
    {
     "data": {
      "image/png": "[encoded data removed]",
      "text/plain": [
       "<Figure size 640x480 with 1 Axes>"
      ]
     },
     "metadata": {},
     "output_type": "display_data"
    }
   ],
   "source": [
    "plt.title('Accuracy Curve for Model')\n",
    "plt.ylabel('Loss', fontsize=16)\n",
    "plt.xlabel('Epoch', fontsize=16)\n",
    "plt.plot(train_accuracy[:],'b')\n",
    "plt.plot(valid_accuracy[:],'r')\n",
    "plt.legend(['Training loss','Validation loss'])\n",
    "plt.show()"
   ]
  }
 ],
 "metadata": {
  "kernelspec": {
   "display_name": "Python 3",
   "language": "python",
   "name": "python3"
  },
  "language_info": {
   "codemirror_mode": {
    "name": "ipython",
    "version": 3
   },
   "file_extension": ".py",
   "mimetype": "text/x-python",
   "name": "python",
   "nbconvert_exporter": "python",
   "pygments_lexer": "ipython3",
   "version": "3.11.6"
  }
 },
 "nbformat": 4,
 "nbformat_minor": 2
}
