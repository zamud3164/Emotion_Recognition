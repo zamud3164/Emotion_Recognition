{
 "cells": [
  {
   "cell_type": "code",
   "execution_count": 1,
   "metadata": {},
   "outputs": [],
   "source": [
    "import torch\n",
    "import torch.nn as nn\n",
    "import matplotlib.pyplot as plt\n",
    "import numpy as np\n",
    "import pandas as pd\n",
    "import librosa.display\n",
    "from sklearn.feature_extraction.text import CountVectorizer\n",
    "from sklearn.feature_extraction.text import TfidfTransformer, TfidfVectorizer\n",
    "import torch.nn.functional as F\n",
    "import os"
   ]
  },
  {
   "cell_type": "code",
   "execution_count": 2,
   "metadata": {},
   "outputs": [],
   "source": [
    "emotions_dict = {'ang': 0,\n",
    "                'hap': 1,\n",
    "                'sad': 2,\n",
    "                'fea': 3,\n",
    "                'sur': 4,\n",
    "                'neu': 5\n",
    "}"
   ]
  },
  {
   "cell_type": "code",
   "execution_count": 4,
   "metadata": {},
   "outputs": [
    {
     "name": "stdout",
     "output_type": "stream",
     "text": [
      "(8606, 3) (8606,) (8606, 278) (8606,)\n"
     ]
    }
   ],
   "source": [
    "x_train_text = pd.read_csv('../../data/text_train_gan.csv')\n",
    "x_test_text = pd.read_csv('../../data/text_test_gan.csv')\n",
    "\n",
    "y_train_text = x_train_text['label']\n",
    "y_test_text = x_test_text['label']\n",
    "\n",
    "x_train_audio = pd.read_csv('../../data/audio_train_gan_v0.csv')\n",
    "x_test_audio = pd.read_csv('../../data/audio_test_gan_v0.csv')\n",
    "\n",
    "\n",
    "y_train_audio = x_train_audio['label']\n",
    "y_test_audio = x_test_audio['label']\n",
    "\n",
    "y_train = y_train_audio  \n",
    "y_test = y_test_audio \n",
    "\n",
    "print(x_train_text.shape, y_train_text.shape, x_train_audio.shape, y_train_audio.shape)"
   ]
  },
  {
   "cell_type": "code",
   "execution_count": 5,
   "metadata": {},
   "outputs": [
    {
     "name": "stdout",
     "output_type": "stream",
     "text": [
      "{2: 2418, 1: 1867, 5: 1370, 3: 1019, 0: 993, 4: 939}\n"
     ]
    }
   ],
   "source": [
    "cl_weight = dict(pd.Series(x_train_audio['label']).value_counts())\n",
    "print(cl_weight)"
   ]
  },
  {
   "cell_type": "code",
   "execution_count": 6,
   "metadata": {},
   "outputs": [
    {
     "name": "stdout",
     "output_type": "stream",
     "text": [
      "(10759, 2695) (8606, 2695) (2153, 2695)\n"
     ]
    }
   ],
   "source": [
    "transcription_train = x_train_text['transcription']\n",
    "transcription_test = x_test_text['transcription']\n",
    "combined_transcription = pd.concat([transcription_train, transcription_test])\n",
    "\n",
    "tfidf = TfidfVectorizer(sublinear_tf=True, min_df=5, norm='l2', encoding='latin-1', ngram_range=(1, 2), stop_words='english')\n",
    "\n",
    "# Apply TfidfVectorizer\n",
    "features_text = tfidf.fit_transform(combined_transcription).toarray()\n",
    "\n",
    "x_train_text = features_text[:x_train_text.shape[0]]\n",
    "x_test_text = features_text[-x_test_text.shape[0]:]\n",
    "\n",
    "print(features_text.shape, x_train_text.shape, x_test_text.shape)"
   ]
  },
  {
   "cell_type": "code",
   "execution_count": 7,
   "metadata": {},
   "outputs": [
    {
     "name": "stdout",
     "output_type": "stream",
     "text": [
      "(8606, 2971) (2153, 2971)\n"
     ]
    }
   ],
   "source": [
    "combined_x_train = np.concatenate((np.array(x_train_audio[x_train_audio.columns[2:]]), x_train_text), axis=1)\n",
    "combined_x_test = np.concatenate((np.array(x_test_audio[x_test_audio.columns[2:]]), x_test_text), axis=1)\n",
    "\n",
    "print(combined_x_train.shape, combined_x_test.shape)"
   ]
  },
  {
   "cell_type": "code",
   "execution_count": 8,
   "metadata": {},
   "outputs": [
    {
     "name": "stdout",
     "output_type": "stream",
     "text": [
      "Shape of feature array for input tensor: (8606, 1, 2971) train, (2153, 1, 2971) test\n",
      "Shape of emotion labels: (8606,) train, (2153,) test\n"
     ]
    }
   ],
   "source": [
    "X_train = np.expand_dims(combined_x_train,1)\n",
    "X_test = np.expand_dims(combined_x_test,1)\n",
    "\n",
    "y_train = np.array(y_train)\n",
    "y_test = np.array(y_test)\n",
    "\n",
    "print(f'Shape of feature array for input tensor: {X_train.shape} train, {X_test.shape} test')\n",
    "print(f'Shape of emotion labels: {y_train.shape} train, {y_test.shape} test')"
   ]
  },
  {
   "cell_type": "code",
   "execution_count": 9,
   "metadata": {},
   "outputs": [],
   "source": [
    "class BasicBlock(nn.Module):\n",
    "    expansion = 1\n",
    "\n",
    "    def __init__(self, in_planes, planes, stride=1):\n",
    "        super(BasicBlock, self).__init__()\n",
    "        self.conv1 = nn.Conv1d(in_planes, planes, kernel_size=3, stride=stride, padding=1, bias=False)\n",
    "        self.bn1 = nn.BatchNorm1d(planes)\n",
    "        self.conv2 = nn.Conv1d(planes, planes, kernel_size=3, stride=1, padding=1, bias=False)\n",
    "        self.bn2 = nn.BatchNorm1d(planes)\n",
    "\n",
    "        self.shortcut = nn.Sequential()\n",
    "        if stride != 1 or in_planes != self.expansion*planes:\n",
    "            self.shortcut = nn.Sequential(\n",
    "                nn.Conv1d(in_planes, self.expansion*planes, kernel_size=1, stride=stride, bias=False),\n",
    "                nn.BatchNorm1d(self.expansion*planes)\n",
    "            )\n",
    "\n",
    "    def forward(self, x):\n",
    "        out = F.relu(self.bn1(self.conv1(x)))\n",
    "        out = self.bn2(self.conv2(out))\n",
    "        out += self.shortcut(x)\n",
    "        out = F.relu(out)\n",
    "        return out\n",
    "\n",
    "class ResNet1D(nn.Module):\n",
    "    def __init__(self, block, num_blocks, num_classes=10):\n",
    "        super(ResNet1D, self).__init__()\n",
    "        self.in_planes = 64\n",
    "\n",
    "        self.conv1 = nn.Conv1d(1, 64, kernel_size=7, stride=2, padding=3, bias=False)\n",
    "        self.bn1 = nn.BatchNorm1d(64)\n",
    "        self.layer1 = self._make_layer(block, 64, num_blocks[0], stride=2)\n",
    "        self.layer2 = self._make_layer(block, 128, num_blocks[1], stride=2)\n",
    "        self.layer3 = self._make_layer(block, 256, num_blocks[2], stride=2)\n",
    "        self.layer4 = self._make_layer(block, 512, num_blocks[3], stride=2)\n",
    "        self.layer5 = self._make_layer(block, 1024, num_blocks[3], stride=2)\n",
    "        self.linear = nn.Linear(1024*block.expansion, num_classes)\n",
    "\n",
    "    def _make_layer(self, block, planes, num_blocks, stride):\n",
    "        strides = [stride] + [1]*(num_blocks-1)\n",
    "        layers = []\n",
    "        for stride in strides:\n",
    "            layers.append(block(self.in_planes, planes, stride))\n",
    "            self.in_planes = planes * block.expansion\n",
    "        #layers.append(nn.Dropout(dropout))  # Add dropout layer after the block\n",
    "        return nn.Sequential(*layers)\n",
    "\n",
    "    def forward(self, x):\n",
    "        out = F.relu(self.bn1(self.conv1(x)))\n",
    "        out = self.layer1(out)\n",
    "        out = self.layer2(out)\n",
    "        out = self.layer3(out)\n",
    "        out = self.layer4(out)\n",
    "        out = self.layer5(out)\n",
    "        out = F.avg_pool1d(out, out.size(2))\n",
    "        out = out.view(out.size(0), -1)\n",
    "        out_logits = self.linear(out)\n",
    "        out_softmax = F.softmax(out_logits, dim=1)\n",
    "        return out_logits, out_softmax"
   ]
  },
  {
   "cell_type": "code",
   "execution_count": 10,
   "metadata": {},
   "outputs": [],
   "source": [
    "def criterion(predictions, targets):\n",
    "    return nn.CrossEntropyLoss()(input=predictions, target=targets)"
   ]
  },
  {
   "cell_type": "code",
   "execution_count": 11,
   "metadata": {},
   "outputs": [],
   "source": [
    "def make_train_step(model, criterion, optimizer):\n",
    "\n",
    "    def train_step(X,Y):\n",
    "\n",
    "        # forward pass\n",
    "        output_logits, output_softmax = model(X)\n",
    "        predictions = torch.argmax(output_softmax,dim=1)\n",
    "        accuracy = torch.sum(Y==predictions)/float(len(Y))\n",
    "\n",
    "        # compute loss \n",
    "        loss = criterion(output_logits, Y)\n",
    "\n",
    "        # compute gradients\n",
    "        loss.backward()\n",
    "\n",
    "        # update network parameters \n",
    "        optimizer.step()\n",
    "\n",
    "        # zero out gradients for next pass\n",
    "        optimizer.zero_grad()\n",
    "\n",
    "        return loss.item(), accuracy*100\n",
    "    return train_step"
   ]
  },
  {
   "cell_type": "code",
   "execution_count": 12,
   "metadata": {},
   "outputs": [],
   "source": [
    "def make_validate_fnc(model,criterion):\n",
    "    def validate(X,Y):\n",
    "        with torch.no_grad():\n",
    "\n",
    "            model.eval()\n",
    "\n",
    "            # get the model's predictions on the validation set\n",
    "            output_logits, output_softmax = model(X)\n",
    "            predictions = torch.argmax(output_softmax,dim=1)\n",
    "\n",
    "            # calculate the mean accuracy over the entire validation set\n",
    "            accuracy = torch.sum(Y==predictions)/float(len(Y))\n",
    "\n",
    "            # compute error \n",
    "            loss = criterion(output_logits,Y)\n",
    "\n",
    "        return loss.item(), accuracy*100, predictions\n",
    "    return validate"
   ]
  },
  {
   "cell_type": "code",
   "execution_count": 13,
   "metadata": {},
   "outputs": [],
   "source": [
    "def make_save_checkpoint():\n",
    "    def save_checkpoint(optimizer, model, epoch, filename):\n",
    "        checkpoint_dict = {\n",
    "            'optimizer': optimizer.state_dict(),\n",
    "            'model': model.state_dict(),\n",
    "            'epoch': epoch\n",
    "        }\n",
    "        torch.save(checkpoint_dict, filename)\n",
    "    return save_checkpoint\n",
    "\n",
    "def load_checkpoint(optimizer, model, filename):\n",
    "    checkpoint_dict = torch.load(filename)\n",
    "    epoch = checkpoint_dict['epoch']\n",
    "    model.load_state_dict(checkpoint_dict['model'])\n",
    "    if optimizer is not None:\n",
    "        optimizer.load_state_dict(checkpoint_dict['optimizer'])\n",
    "    return epoch"
   ]
  },
  {
   "cell_type": "code",
   "execution_count": 14,
   "metadata": {},
   "outputs": [
    {
     "name": "stdout",
     "output_type": "stream",
     "text": [
      "cpu selected\n",
      "Number of trainable params:  15398854\n"
     ]
    },
    {
     "name": "stderr",
     "output_type": "stream",
     "text": [
      "c:\\Users\\Zara Mudassar\\AppData\\Local\\Programs\\Python\\Python311\\Lib\\site-packages\\tqdm\\auto.py:21: TqdmWarning: IProgress not found. Please update jupyter and ipywidgets. See https://ipywidgets.readthedocs.io/en/stable/user_install.html\n",
      "  from .autonotebook import tqdm as notebook_tqdm\n"
     ]
    }
   ],
   "source": [
    "train_size = X_train.shape[0]\n",
    "minibatch = 32\n",
    "\n",
    "# set device to GPU\n",
    "device = 'cuda' if torch.cuda.is_available() else 'cpu'\n",
    "print(f'{device} selected')\n",
    "\n",
    "model = ResNet1D(BasicBlock, [2, 2, 2, 2], num_classes=len(emotions_dict))\n",
    "print('Number of trainable params: ',sum(p.numel() for p in model.parameters()) )\n",
    "\n",
    "optimizer = torch.optim.SGD(model.parameters(),lr=0.001, weight_decay=1e-4, momentum=0.4)\n",
    "\n",
    "# instantiate the checkpoint save function\n",
    "save_checkpoint = make_save_checkpoint()\n",
    "\n",
    "# instantiate the training step function\n",
    "train_step = make_train_step(model, criterion, optimizer=optimizer)\n",
    "\n",
    "# instantiate the validation loop function\n",
    "validate = make_validate_fnc(model,criterion)\n",
    "\n",
    "# instantiate lists to hold scalar performance metrics to plot later\n",
    "train_losses=[]\n",
    "valid_losses = []\n",
    "train_accuracy = []\n",
    "valid_accuracy = []\n",
    "\n",
    "\n",
    "# create training loop for one complete epoch (entire training set)\n",
    "def train(optimizer, model, num_epochs, X_train, Y_train, X_valid, Y_valid):\n",
    "\n",
    "    for epoch in range(num_epochs):\n",
    "\n",
    "        # set model to train phase\n",
    "        model.train()\n",
    "\n",
    "        # shuffle entire training set in each epoch to randomize minibatch order\n",
    "        train_indices = np.random.permutation(train_size)\n",
    "        X_train = X_train[train_indices,:]\n",
    "        Y_train = Y_train[train_indices]\n",
    "\n",
    "        epoch_acc = 0\n",
    "        epoch_loss = 0\n",
    "        num_iterations = int(train_size / minibatch)\n",
    "\n",
    "        # create a loop for each minibatch\n",
    "        for i in range(num_iterations):\n",
    "\n",
    "            # track minibatch position based on iteration number\n",
    "            batch_start = i * minibatch\n",
    "            batch_end = min(batch_start + minibatch, train_size)\n",
    "            actual_batch_size = batch_end-batch_start\n",
    "\n",
    "            # create tensors from minibatch\n",
    "            X = X_train[batch_start:batch_end,:]\n",
    "            Y = Y_train[batch_start:batch_end]\n",
    "\n",
    "            # instantiate training tensors\n",
    "            X_tensor = torch.tensor(X, device=device).float()\n",
    "            Y_tensor = torch.tensor(Y, dtype=torch.long,device=device)\n",
    "\n",
    "            # Pass input tensors thru 1 training step\n",
    "            loss, acc = train_step(X_tensor,Y_tensor)\n",
    "\n",
    "            epoch_acc += acc * actual_batch_size / train_size\n",
    "            epoch_loss += loss * actual_batch_size / train_size\n",
    "\n",
    "            print('\\r'+f'Epoch {epoch}: iteration {i}/{num_iterations}',end='')\n",
    "\n",
    "        # create tensors from validation set\n",
    "        X_valid_tensor = torch.tensor(X_valid,device=device).float()\n",
    "        Y_valid_tensor = torch.tensor(Y_valid,dtype=torch.long,device=device)\n",
    "\n",
    "        # calculate validation metrics to keep track of progress\n",
    "        valid_loss, valid_acc, _ = validate(X_valid_tensor,Y_valid_tensor)\n",
    "\n",
    "        train_losses.append(epoch_loss)\n",
    "        valid_losses.append(valid_loss)\n",
    "        train_accuracy.append(epoch_acc)\n",
    "        valid_accuracy.append(valid_acc)\n",
    "\n",
    "        # Save checkpoint of the model\n",
    "        if valid_loss == min(valid_losses):\n",
    "            checkpoint_filename = '../../savedModel/CNN1D_v2_best_loss.pkl'\n",
    "            save_checkpoint(optimizer, model, epoch, checkpoint_filename)\n",
    "        if valid_acc == max(valid_accuracy):\n",
    "            checkpoint_filename = '../../savedModel/CNN1D_v2_best_acc.pkl'\n",
    "            save_checkpoint(optimizer, model, epoch, checkpoint_filename)\n",
    "\n",
    "        # keep track of each epoch's progress\n",
    "        print(f'\\nEpoch {epoch} --- loss:{epoch_loss:.3f}, Epoch accuracy:{epoch_acc:.2f}%, Validation loss:{valid_loss:.3f}, Validation accuracy:{valid_acc:.2f}%')"
   ]
  },
  {
   "cell_type": "code",
   "execution_count": 72,
   "metadata": {},
   "outputs": [
    {
     "name": "stdout",
     "output_type": "stream",
     "text": [
      "Epoch 0: iteration 267/268\n",
      "Epoch 0 --- loss:1.557, Epoch accuracy:36.67%, Validation loss:1.420, Validation accuracy:43.99%\n",
      "Epoch 1: iteration 267/268\n",
      "Epoch 1 --- loss:1.329, Epoch accuracy:49.20%, Validation loss:1.204, Validation accuracy:56.15%\n",
      "Epoch 2: iteration 267/268\n",
      "Epoch 2 --- loss:1.121, Epoch accuracy:57.59%, Validation loss:1.055, Validation accuracy:60.85%\n",
      "Epoch 3: iteration 267/268\n",
      "Epoch 3 --- loss:0.963, Epoch accuracy:63.75%, Validation loss:0.927, Validation accuracy:63.59%\n",
      "Epoch 4: iteration 267/268\n",
      "Epoch 4 --- loss:0.855, Epoch accuracy:66.59%, Validation loss:0.874, Validation accuracy:65.30%\n",
      "Epoch 5: iteration 267/268\n",
      "Epoch 5 --- loss:0.783, Epoch accuracy:69.49%, Validation loss:0.854, Validation accuracy:64.93%\n",
      "Epoch 6: iteration 267/268\n",
      "Epoch 6 --- loss:0.719, Epoch accuracy:72.37%, Validation loss:0.853, Validation accuracy:66.37%\n",
      "Epoch 7: iteration 267/268\n",
      "Epoch 7 --- loss:0.663, Epoch accuracy:74.54%, Validation loss:0.851, Validation accuracy:66.14%\n",
      "Epoch 8: iteration 267/268\n",
      "Epoch 8 --- loss:0.609, Epoch accuracy:76.81%, Validation loss:0.963, Validation accuracy:62.98%\n",
      "Epoch 9: iteration 267/268\n",
      "Epoch 9 --- loss:0.560, Epoch accuracy:79.28%, Validation loss:1.113, Validation accuracy:59.31%\n",
      "Epoch 10: iteration 267/268\n",
      "Epoch 10 --- loss:0.516, Epoch accuracy:81.14%, Validation loss:0.987, Validation accuracy:64.93%\n",
      "Epoch 11: iteration 267/268\n",
      "Epoch 11 --- loss:0.450, Epoch accuracy:83.83%, Validation loss:1.040, Validation accuracy:63.17%\n",
      "Epoch 12: iteration 267/268\n",
      "Epoch 12 --- loss:0.408, Epoch accuracy:85.52%, Validation loss:0.962, Validation accuracy:64.10%\n",
      "Epoch 13: iteration 267/268\n",
      "Epoch 13 --- loss:0.353, Epoch accuracy:87.33%, Validation loss:1.076, Validation accuracy:62.75%\n",
      "Epoch 14: iteration 267/268\n",
      "Epoch 14 --- loss:0.304, Epoch accuracy:89.46%, Validation loss:1.043, Validation accuracy:64.79%\n",
      "Epoch 15: iteration 267/268\n",
      "Epoch 15 --- loss:0.263, Epoch accuracy:91.03%, Validation loss:1.071, Validation accuracy:63.35%\n",
      "Epoch 16: iteration 267/268\n",
      "Epoch 16 --- loss:0.223, Epoch accuracy:92.39%, Validation loss:1.426, Validation accuracy:62.56%\n",
      "Epoch 17: iteration 267/268\n",
      "Epoch 17 --- loss:0.191, Epoch accuracy:93.48%, Validation loss:1.273, Validation accuracy:63.12%\n",
      "Epoch 18: iteration 267/268\n",
      "Epoch 18 --- loss:0.160, Epoch accuracy:94.64%, Validation loss:1.217, Validation accuracy:62.84%\n",
      "Epoch 19: iteration 267/268\n",
      "Epoch 19 --- loss:0.132, Epoch accuracy:95.75%, Validation loss:1.264, Validation accuracy:63.91%\n",
      "Epoch 20: iteration 267/268\n",
      "Epoch 20 --- loss:0.100, Epoch accuracy:96.94%, Validation loss:1.354, Validation accuracy:65.03%\n",
      "Epoch 21: iteration 267/268\n",
      "Epoch 21 --- loss:0.074, Epoch accuracy:97.97%, Validation loss:1.333, Validation accuracy:64.14%\n",
      "Epoch 22: iteration 267/268\n",
      "Epoch 22 --- loss:0.072, Epoch accuracy:97.72%, Validation loss:1.338, Validation accuracy:63.17%\n",
      "Epoch 23: iteration 267/268\n",
      "Epoch 23 --- loss:0.067, Epoch accuracy:97.63%, Validation loss:1.337, Validation accuracy:65.12%\n",
      "Epoch 24: iteration 267/268\n",
      "Epoch 24 --- loss:0.054, Epoch accuracy:98.42%, Validation loss:1.494, Validation accuracy:65.86%\n",
      "Epoch 25: iteration 267/268\n",
      "Epoch 25 --- loss:0.047, Epoch accuracy:98.54%, Validation loss:1.336, Validation accuracy:64.05%\n",
      "Epoch 26: iteration 267/268\n",
      "Epoch 26 --- loss:0.041, Epoch accuracy:98.69%, Validation loss:1.520, Validation accuracy:62.10%\n",
      "Epoch 27: iteration 267/268\n",
      "Epoch 27 --- loss:0.039, Epoch accuracy:98.66%, Validation loss:1.539, Validation accuracy:64.24%\n",
      "Epoch 28: iteration 267/268\n",
      "Epoch 28 --- loss:0.042, Epoch accuracy:98.48%, Validation loss:1.414, Validation accuracy:64.98%\n",
      "Epoch 29: iteration 267/268\n",
      "Epoch 29 --- loss:0.027, Epoch accuracy:99.08%, Validation loss:1.360, Validation accuracy:65.21%\n",
      "Epoch 30: iteration 267/268\n",
      "Epoch 30 --- loss:0.021, Epoch accuracy:99.20%, Validation loss:1.419, Validation accuracy:65.07%\n",
      "Epoch 31: iteration 267/268\n",
      "Epoch 31 --- loss:0.024, Epoch accuracy:99.07%, Validation loss:1.345, Validation accuracy:66.05%\n",
      "Epoch 32: iteration 267/268\n",
      "Epoch 32 --- loss:0.016, Epoch accuracy:99.42%, Validation loss:1.397, Validation accuracy:66.28%\n",
      "Epoch 33: iteration 267/268\n",
      "Epoch 33 --- loss:0.011, Epoch accuracy:99.51%, Validation loss:1.395, Validation accuracy:65.72%\n",
      "Epoch 34: iteration 267/268\n",
      "Epoch 34 --- loss:0.011, Epoch accuracy:99.48%, Validation loss:1.433, Validation accuracy:66.23%\n",
      "Epoch 35: iteration 267/268\n",
      "Epoch 35 --- loss:0.010, Epoch accuracy:99.51%, Validation loss:1.419, Validation accuracy:66.56%\n",
      "Epoch 36: iteration 267/268\n",
      "Epoch 36 --- loss:0.008, Epoch accuracy:99.52%, Validation loss:1.420, Validation accuracy:66.93%\n",
      "Epoch 37: iteration 267/268\n",
      "Epoch 37 --- loss:0.006, Epoch accuracy:99.60%, Validation loss:1.435, Validation accuracy:66.09%\n",
      "Epoch 38: iteration 267/268\n",
      "Epoch 38 --- loss:0.009, Epoch accuracy:99.52%, Validation loss:1.441, Validation accuracy:66.88%\n",
      "Epoch 39: iteration 267/268\n",
      "Epoch 39 --- loss:0.006, Epoch accuracy:99.59%, Validation loss:1.441, Validation accuracy:65.82%\n",
      "Epoch 40: iteration 267/268\n",
      "Epoch 40 --- loss:0.005, Epoch accuracy:99.63%, Validation loss:1.478, Validation accuracy:66.00%\n",
      "Epoch 41: iteration 267/268\n",
      "Epoch 41 --- loss:0.006, Epoch accuracy:99.59%, Validation loss:1.477, Validation accuracy:65.40%\n",
      "Epoch 42: iteration 267/268\n",
      "Epoch 42 --- loss:0.004, Epoch accuracy:99.63%, Validation loss:1.468, Validation accuracy:66.09%\n",
      "Epoch 43: iteration 267/268\n",
      "Epoch 43 --- loss:0.004, Epoch accuracy:99.62%, Validation loss:1.480, Validation accuracy:65.82%\n",
      "Epoch 44: iteration 267/268\n",
      "Epoch 44 --- loss:0.004, Epoch accuracy:99.59%, Validation loss:1.499, Validation accuracy:66.00%\n",
      "Epoch 45: iteration 267/268\n",
      "Epoch 45 --- loss:0.004, Epoch accuracy:99.62%, Validation loss:1.470, Validation accuracy:65.77%\n",
      "Epoch 46: iteration 267/268\n",
      "Epoch 46 --- loss:0.003, Epoch accuracy:99.65%, Validation loss:1.491, Validation accuracy:66.56%\n",
      "Epoch 47: iteration 267/268\n",
      "Epoch 47 --- loss:0.003, Epoch accuracy:99.63%, Validation loss:1.436, Validation accuracy:65.63%\n",
      "Epoch 48: iteration 267/268\n",
      "Epoch 48 --- loss:0.003, Epoch accuracy:99.65%, Validation loss:1.461, Validation accuracy:66.56%\n",
      "Epoch 49: iteration 267/268\n",
      "Epoch 49 --- loss:0.003, Epoch accuracy:99.65%, Validation loss:1.472, Validation accuracy:66.47%\n",
      "Epoch 50: iteration 267/268\n",
      "Epoch 50 --- loss:0.002, Epoch accuracy:99.65%, Validation loss:1.483, Validation accuracy:66.47%\n",
      "Epoch 51: iteration 267/268\n",
      "Epoch 51 --- loss:0.002, Epoch accuracy:99.65%, Validation loss:1.487, Validation accuracy:66.65%\n",
      "Epoch 52: iteration 267/268\n",
      "Epoch 52 --- loss:0.002, Epoch accuracy:99.65%, Validation loss:1.490, Validation accuracy:66.93%\n",
      "Epoch 53: iteration 267/268\n",
      "Epoch 53 --- loss:0.005, Epoch accuracy:99.58%, Validation loss:1.512, Validation accuracy:65.72%\n",
      "Epoch 54: iteration 267/268\n",
      "Epoch 54 --- loss:0.003, Epoch accuracy:99.65%, Validation loss:1.521, Validation accuracy:65.82%\n",
      "Epoch 55: iteration 267/268\n",
      "Epoch 55 --- loss:0.004, Epoch accuracy:99.56%, Validation loss:1.526, Validation accuracy:66.37%\n",
      "Epoch 56: iteration 267/268\n",
      "Epoch 56 --- loss:0.002, Epoch accuracy:99.65%, Validation loss:1.497, Validation accuracy:65.82%\n",
      "Epoch 57: iteration 267/268\n",
      "Epoch 57 --- loss:0.002, Epoch accuracy:99.65%, Validation loss:1.505, Validation accuracy:66.37%\n",
      "Epoch 58: iteration 267/268\n",
      "Epoch 58 --- loss:0.003, Epoch accuracy:99.63%, Validation loss:1.522, Validation accuracy:66.47%\n",
      "Epoch 59: iteration 267/268\n",
      "Epoch 59 --- loss:0.002, Epoch accuracy:99.65%, Validation loss:1.521, Validation accuracy:66.19%\n",
      "Epoch 60: iteration 267/268\n",
      "Epoch 60 --- loss:0.002, Epoch accuracy:99.65%, Validation loss:1.518, Validation accuracy:66.51%\n",
      "Epoch 61: iteration 267/268\n",
      "Epoch 61 --- loss:0.002, Epoch accuracy:99.65%, Validation loss:1.516, Validation accuracy:65.68%\n",
      "Epoch 62: iteration 267/268\n",
      "Epoch 62 --- loss:0.001, Epoch accuracy:99.65%, Validation loss:1.518, Validation accuracy:66.05%\n",
      "Epoch 63: iteration 267/268\n",
      "Epoch 63 --- loss:0.002, Epoch accuracy:99.65%, Validation loss:1.512, Validation accuracy:66.14%\n",
      "Epoch 64: iteration 267/268\n",
      "Epoch 64 --- loss:0.001, Epoch accuracy:99.65%, Validation loss:1.543, Validation accuracy:66.14%\n",
      "Epoch 65: iteration 267/268\n",
      "Epoch 65 --- loss:0.002, Epoch accuracy:99.65%, Validation loss:1.549, Validation accuracy:66.74%\n",
      "Epoch 66: iteration 267/268\n",
      "Epoch 66 --- loss:0.002, Epoch accuracy:99.65%, Validation loss:1.542, Validation accuracy:65.86%\n",
      "Epoch 67: iteration 267/268\n",
      "Epoch 67 --- loss:0.002, Epoch accuracy:99.65%, Validation loss:1.528, Validation accuracy:65.95%\n",
      "Epoch 68: iteration 267/268\n",
      "Epoch 68 --- loss:0.001, Epoch accuracy:99.65%, Validation loss:1.543, Validation accuracy:66.09%\n",
      "Epoch 69: iteration 267/268\n",
      "Epoch 69 --- loss:0.002, Epoch accuracy:99.64%, Validation loss:1.542, Validation accuracy:66.47%\n",
      "Epoch 70: iteration 267/268\n",
      "Epoch 70 --- loss:0.001, Epoch accuracy:99.65%, Validation loss:1.537, Validation accuracy:66.60%\n",
      "Epoch 71: iteration 267/268\n",
      "Epoch 71 --- loss:0.001, Epoch accuracy:99.65%, Validation loss:1.544, Validation accuracy:66.42%\n",
      "Epoch 72: iteration 267/268\n",
      "Epoch 72 --- loss:0.001, Epoch accuracy:99.65%, Validation loss:1.539, Validation accuracy:65.95%\n",
      "Epoch 73: iteration 267/268\n",
      "Epoch 73 --- loss:0.001, Epoch accuracy:99.65%, Validation loss:1.568, Validation accuracy:66.37%\n",
      "Epoch 74: iteration 267/268\n",
      "Epoch 74 --- loss:0.001, Epoch accuracy:99.65%, Validation loss:1.553, Validation accuracy:66.00%\n",
      "Epoch 75: iteration 267/268\n",
      "Epoch 75 --- loss:0.001, Epoch accuracy:99.65%, Validation loss:1.567, Validation accuracy:66.28%\n",
      "Epoch 76: iteration 267/268\n",
      "Epoch 76 --- loss:0.001, Epoch accuracy:99.65%, Validation loss:1.534, Validation accuracy:66.19%\n",
      "Epoch 77: iteration 267/268\n",
      "Epoch 77 --- loss:0.001, Epoch accuracy:99.65%, Validation loss:1.549, Validation accuracy:65.63%\n",
      "Epoch 78: iteration 267/268\n",
      "Epoch 78 --- loss:0.001, Epoch accuracy:99.64%, Validation loss:1.542, Validation accuracy:65.72%\n",
      "Epoch 79: iteration 267/268\n",
      "Epoch 79 --- loss:0.001, Epoch accuracy:99.65%, Validation loss:1.528, Validation accuracy:65.86%\n"
     ]
    }
   ],
   "source": [
    "num_epochs = 80\n",
    "\n",
    "# train it!\n",
    "train(optimizer, model, num_epochs, X_train, y_train, X_test, y_test)"
   ]
  },
  {
   "cell_type": "code",
   "execution_count": 73,
   "metadata": {},
   "outputs": [
    {
     "data": {
      "image/png": "[encoded data removed]",
      "text/plain": [
       "<Figure size 640x480 with 1 Axes>"
      ]
     },
     "metadata": {},
     "output_type": "display_data"
    }
   ],
   "source": [
    "#plt.title('Loss Curve for Model')\n",
    "plt.ylabel('Loss', fontsize=11)\n",
    "plt.xlabel('Epoch', fontsize=11)\n",
    "plt.plot(train_losses[:],'b')\n",
    "plt.plot(valid_losses[:],'r')\n",
    "plt.legend(['Training loss','Validation loss'])\n",
    "plt.show()"
   ]
  },
  {
   "cell_type": "code",
   "execution_count": 74,
   "metadata": {},
   "outputs": [
    {
     "data": {
      "image/png": "[encoded data removed]",
      "text/plain": [
       "<Figure size 640x480 with 1 Axes>"
      ]
     },
     "metadata": {},
     "output_type": "display_data"
    }
   ],
   "source": [
    "#plt.title('Accuracy Curve for Model')\n",
    "plt.ylabel('Loss', fontsize=11)\n",
    "plt.xlabel('Epoch', fontsize=11)\n",
    "plt.plot(train_accuracy[:],'b')\n",
    "plt.plot(valid_accuracy[:],'r')\n",
    "plt.legend(['Training loss','Validation loss'])\n",
    "plt.show()"
   ]
  },
  {
   "cell_type": "code",
   "execution_count": 15,
   "metadata": {},
   "outputs": [],
   "source": [
    "from sklearn.metrics import classification_report, precision_score, recall_score, f1_score, accuracy_score\n",
    "\n",
    "def make_validate_fnc(model,criterion):\n",
    "    def validate(X,Y):\n",
    "        with torch.no_grad():\n",
    "\n",
    "            model.eval()\n",
    "\n",
    "            # get predictions\n",
    "            output_logits, output_softmax = model(X)\n",
    "            predictions = torch.argmax(output_softmax,dim=1)\n",
    "            \n",
    "            # Convert predictions and true labels to numpy arrays\n",
    "            predictions_np = predictions.cpu().numpy()\n",
    "            y_true_np = Y.cpu().numpy()\n",
    "\n",
    "            # Compute classification report\n",
    "            report = classification_report(y_true_np, predictions_np)\n",
    "\n",
    "            # Calculate precision, recall, and F1 score\n",
    "            precision = precision_score(y_true_np, predictions_np, average='weighted') * 100\n",
    "            recall = recall_score(y_true_np, predictions_np, average='weighted') * 100\n",
    "            f1 = f1_score(y_true_np, predictions_np, average='weighted') * 100\n",
    "            acc = accuracy_score(y_true_np, predictions_np) * 100\n",
    "            acc_weighted = accuracy_score(y_true_np, predictions_np, sample_weight=None) * 100\n",
    "\n",
    "        return predictions, precision, recall, f1, acc, acc_weighted, report\n",
    "    return validate"
   ]
  },
  {
   "cell_type": "code",
   "execution_count": 16,
   "metadata": {},
   "outputs": [],
   "source": [
    "optimizer = None\n",
    "\n",
    "def load_checkpoint(optimizer, model, filename):\n",
    "    checkpoint_dict = torch.load(filename, map_location=torch.device('cpu'))\n",
    "    epoch = checkpoint_dict['epoch']\n",
    "    model.load_state_dict(checkpoint_dict['model'])\n",
    "    if optimizer is not None:\n",
    "        optimizer.load_state_dict(checkpoint_dict['optimizer'])\n",
    "    return epoch"
   ]
  },
  {
   "cell_type": "code",
   "execution_count": 17,
   "metadata": {},
   "outputs": [
    {
     "name": "stdout",
     "output_type": "stream",
     "text": [
      "Loaded model from ../../savedModel\\CNN1D_v2_best_acc.pkl\n"
     ]
    }
   ],
   "source": [
    "import os \n",
    "\n",
    "load_folder = '../../savedModel'\n",
    "model_name = f'CNN1D_v2_best_acc.pkl'\n",
    "load_path = os.path.join(load_folder, model_name)\n",
    "\n",
    "model = ResNet1D(BasicBlock, [2, 2, 2, 2], num_classes=len(emotions_dict))\n",
    "load_checkpoint(optimizer, model, load_path)\n",
    "\n",
    "print(f'Loaded model from {load_path}')"
   ]
  },
  {
   "cell_type": "code",
   "execution_count": 51,
   "metadata": {},
   "outputs": [
    {
     "name": "stdout",
     "output_type": "stream",
     "text": [
      "Test accuracy (UA) is 67.58\n",
      "Test accuracy (WA) is 67.58\n",
      "Test precision is 67.48\n",
      "Test recall is 67.58\n",
      "Test F1 is 67.09\n",
      "\n",
      "               precision    recall  f1-score   support\n",
      "\n",
      "           0       0.48      0.39      0.43       224\n",
      "           1       0.70      0.59      0.64       457\n",
      "           2       0.58      0.73      0.65       647\n",
      "           3       0.99      0.98      0.99       249\n",
      "           4       0.98      1.00      0.99       238\n",
      "           5       0.51      0.42      0.46       338\n",
      "\n",
      "    accuracy                           0.68      2153\n",
      "   macro avg       0.71      0.69      0.69      2153\n",
      "weighted avg       0.67      0.68      0.67      2153\n",
      "\n"
     ]
    }
   ],
   "source": [
    "model.to(device)\n",
    "\n",
    "validate = make_validate_fnc(model,criterion)\n",
    "\n",
    "# Convert to tensors\n",
    "X_test_tensor = torch.tensor(X_test,device=device).float()\n",
    "y_test_tensor = torch.tensor(y_test,dtype=torch.long,device=device)\n",
    "\n",
    "predictions, precision, recall, f1, acc, acc_weighted, report = validate(X_test_tensor,y_test_tensor)\n",
    "\n",
    "print(f'Test accuracy (UA) is {acc:.2f}')\n",
    "print(f'Test accuracy (WA) is {acc_weighted:.2f}')\n",
    "print(f'Test precision is {precision:.2f}')\n",
    "print(f'Test recall is {recall:.2f}')\n",
    "print(f'Test F1 is {f1:.2f}')\n",
    "\n",
    "print('\\n',report)"
   ]
  }
 ],
 "metadata": {
  "kernelspec": {
   "display_name": "Python 3",
   "language": "python",
   "name": "python3"
  },
  "language_info": {
   "codemirror_mode": {
    "name": "ipython",
    "version": 3
   },
   "file_extension": ".py",
   "mimetype": "text/x-python",
   "name": "python",
   "nbconvert_exporter": "python",
   "pygments_lexer": "ipython3",
   "version": "3.11.6"
  }
 },
 "nbformat": 4,
 "nbformat_minor": 2
}
